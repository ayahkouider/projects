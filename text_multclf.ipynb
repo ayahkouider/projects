{
 "cells": [
  {
   "cell_type": "markdown",
   "id": "38e7e34c",
   "metadata": {},
   "source": [
    "# Cancer grade extraction from pathology reports of renal cell carcinoma patients\n",
    "- aim of the project is to design deep learning models extracting Fuhrman grade from pathology reports of renal cell carcinoma patients in The Cancer Genome Atlas (TCGA).\n",
    "- training data is csv file that contains the patient id and there cancer type and a csv file with all the patients and there pathology reports."
   ]
  },
  {
   "cell_type": "markdown",
   "id": "96e5d554",
   "metadata": {},
   "source": [
    "## data preprocessing \n",
    "- merge the patient reports with their cancer types.\n",
    "- remove stopwords for the reports.\n",
    "- vectorize the report\n",
    "- check that the inputs and outputs have the same number of rows.\n",
    "- split the training set"
   ]
  },
  {
   "cell_type": "code",
   "execution_count": null,
   "id": "ce62a065",
   "metadata": {},
   "outputs": [],
   "source": [
    "import numpy as np\n",
    "import pandas as pd"
   ]
  },
  {
   "cell_type": "code",
   "execution_count": 2,
   "id": "472025a4",
   "metadata": {},
   "outputs": [
    {
     "data": {
      "text/html": [
       "<div>\n",
       "<style scoped>\n",
       "    .dataframe tbody tr th:only-of-type {\n",
       "        vertical-align: middle;\n",
       "    }\n",
       "\n",
       "    .dataframe tbody tr th {\n",
       "        vertical-align: top;\n",
       "    }\n",
       "\n",
       "    .dataframe thead th {\n",
       "        text-align: right;\n",
       "    }\n",
       "</style>\n",
       "<table border=\"1\" class=\"dataframe\">\n",
       "  <thead>\n",
       "    <tr style=\"text-align: right;\">\n",
       "      <th></th>\n",
       "      <th>report</th>\n",
       "    </tr>\n",
       "    <tr>\n",
       "      <th>patient_id</th>\n",
       "      <th></th>\n",
       "    </tr>\n",
       "  </thead>\n",
       "  <tbody>\n",
       "    <tr>\n",
       "      <th>TCGA-2K-A9WE</th>\n",
       "      <td>final pathologic diagnosis: left kidney and ur...</td>\n",
       "    </tr>\n",
       "    <tr>\n",
       "      <th>TCGA-2Z-A9J1</th>\n",
       "      <td>left renal mass, partial nefhpectomy tumor typ...</td>\n",
       "    </tr>\n",
       "    <tr>\n",
       "      <th>TCGA-2Z-A9J2</th>\n",
       "      <td>specimen: left kidney tumor type: papillary re...</td>\n",
       "    </tr>\n",
       "    <tr>\n",
       "      <th>TCGA-2Z-A9J3</th>\n",
       "      <td>right kidney, radical nephrectomy: renal cell ...</td>\n",
       "    </tr>\n",
       "    <tr>\n",
       "      <th>TCGA-2Z-A9J6</th>\n",
       "      <td>tumor type: renal cell carcinoma, papillary ty...</td>\n",
       "    </tr>\n",
       "    <tr>\n",
       "      <th>...</th>\n",
       "      <td>...</td>\n",
       "    </tr>\n",
       "    <tr>\n",
       "      <th>TCGA-Y8-A896</th>\n",
       "      <td>research dx left kidney, radical nephrectomy: ...</td>\n",
       "    </tr>\n",
       "    <tr>\n",
       "      <th>TCGA-Y8-A897</th>\n",
       "      <td>case summary for nephrectomy for renal cell ca...</td>\n",
       "    </tr>\n",
       "    <tr>\n",
       "      <th>TCGA-Y8-A8RY</th>\n",
       "      <td>case summary for nephrectomy for renal cell ca...</td>\n",
       "    </tr>\n",
       "    <tr>\n",
       "      <th>TCGA-Y8-A8S0</th>\n",
       "      <td>procedure : laparoscopic partial nephrectomy s...</td>\n",
       "    </tr>\n",
       "    <tr>\n",
       "      <th>TCGA-Y8-A8S1</th>\n",
       "      <td>research dx left lower pole renal mass, partia...</td>\n",
       "    </tr>\n",
       "  </tbody>\n",
       "</table>\n",
       "<p>671 rows × 1 columns</p>\n",
       "</div>"
      ],
      "text/plain": [
       "                                                         report\n",
       "patient_id                                                     \n",
       "TCGA-2K-A9WE  final pathologic diagnosis: left kidney and ur...\n",
       "TCGA-2Z-A9J1  left renal mass, partial nefhpectomy tumor typ...\n",
       "TCGA-2Z-A9J2  specimen: left kidney tumor type: papillary re...\n",
       "TCGA-2Z-A9J3  right kidney, radical nephrectomy: renal cell ...\n",
       "TCGA-2Z-A9J6  tumor type: renal cell carcinoma, papillary ty...\n",
       "...                                                         ...\n",
       "TCGA-Y8-A896  research dx left kidney, radical nephrectomy: ...\n",
       "TCGA-Y8-A897  case summary for nephrectomy for renal cell ca...\n",
       "TCGA-Y8-A8RY  case summary for nephrectomy for renal cell ca...\n",
       "TCGA-Y8-A8S0  procedure : laparoscopic partial nephrectomy s...\n",
       "TCGA-Y8-A8S1  research dx left lower pole renal mass, partia...\n",
       "\n",
       "[671 rows x 1 columns]"
      ]
     },
     "execution_count": 2,
     "metadata": {},
     "output_type": "execute_result"
    }
   ],
   "source": [
    "df=pd.read_table(\"dataT.csv\",sep=\",\")\n",
    "df.set_index('patient_id',inplace=True)\n",
    "df"
   ]
  },
  {
   "cell_type": "code",
   "execution_count": 4,
   "id": "1071330b",
   "metadata": {},
   "outputs": [
    {
     "data": {
      "text/html": [
       "<div>\n",
       "<style scoped>\n",
       "    .dataframe tbody tr th:only-of-type {\n",
       "        vertical-align: middle;\n",
       "    }\n",
       "\n",
       "    .dataframe tbody tr th {\n",
       "        vertical-align: top;\n",
       "    }\n",
       "\n",
       "    .dataframe thead th {\n",
       "        text-align: right;\n",
       "    }\n",
       "</style>\n",
       "<table border=\"1\" class=\"dataframe\">\n",
       "  <thead>\n",
       "    <tr style=\"text-align: right;\">\n",
       "      <th></th>\n",
       "      <th>patient_id</th>\n",
       "      <th>g1</th>\n",
       "      <th>g2</th>\n",
       "      <th>g3</th>\n",
       "      <th>g4</th>\n",
       "      <th>report</th>\n",
       "    </tr>\n",
       "  </thead>\n",
       "  <tbody>\n",
       "    <tr>\n",
       "      <th>0</th>\n",
       "      <td>TCGA-2Z-A9J1</td>\n",
       "      <td>0</td>\n",
       "      <td>0</td>\n",
       "      <td>1</td>\n",
       "      <td>0</td>\n",
       "      <td>left renal mass, partial nefhpectomy tumor typ...</td>\n",
       "    </tr>\n",
       "    <tr>\n",
       "      <th>1</th>\n",
       "      <td>TCGA-2Z-A9J7</td>\n",
       "      <td>0</td>\n",
       "      <td>0</td>\n",
       "      <td>1</td>\n",
       "      <td>0</td>\n",
       "      <td>procedure: right radical nephrectomy tumor typ...</td>\n",
       "    </tr>\n",
       "    <tr>\n",
       "      <th>2</th>\n",
       "      <td>TCGA-2Z-A9J8</td>\n",
       "      <td>0</td>\n",
       "      <td>0</td>\n",
       "      <td>1</td>\n",
       "      <td>0</td>\n",
       "      <td>left kidney tumor tumor type: renal cell carci...</td>\n",
       "    </tr>\n",
       "    <tr>\n",
       "      <th>3</th>\n",
       "      <td>TCGA-2Z-A9JE</td>\n",
       "      <td>0</td>\n",
       "      <td>1</td>\n",
       "      <td>0</td>\n",
       "      <td>0</td>\n",
       "      <td>right renal mass, heminephrectomy: tumor type:...</td>\n",
       "    </tr>\n",
       "    <tr>\n",
       "      <th>4</th>\n",
       "      <td>TCGA-2Z-A9JG</td>\n",
       "      <td>0</td>\n",
       "      <td>0</td>\n",
       "      <td>1</td>\n",
       "      <td>0</td>\n",
       "      <td>final diagnosis a. left kidney, partial nephre...</td>\n",
       "    </tr>\n",
       "    <tr>\n",
       "      <th>...</th>\n",
       "      <td>...</td>\n",
       "      <td>...</td>\n",
       "      <td>...</td>\n",
       "      <td>...</td>\n",
       "      <td>...</td>\n",
       "      <td>...</td>\n",
       "    </tr>\n",
       "    <tr>\n",
       "      <th>400</th>\n",
       "      <td>TCGA-WN-AB4C</td>\n",
       "      <td>0</td>\n",
       "      <td>0</td>\n",
       "      <td>1</td>\n",
       "      <td>0</td>\n",
       "      <td>final diagnosis: a. kidney, \"right kidney mass...</td>\n",
       "    </tr>\n",
       "    <tr>\n",
       "      <th>401</th>\n",
       "      <td>TCGA-Y8-A896</td>\n",
       "      <td>0</td>\n",
       "      <td>0</td>\n",
       "      <td>0</td>\n",
       "      <td>1</td>\n",
       "      <td>research dx left kidney, radical nephrectomy: ...</td>\n",
       "    </tr>\n",
       "    <tr>\n",
       "      <th>402</th>\n",
       "      <td>TCGA-Y8-A897</td>\n",
       "      <td>0</td>\n",
       "      <td>1</td>\n",
       "      <td>0</td>\n",
       "      <td>0</td>\n",
       "      <td>case summary for nephrectomy for renal cell ca...</td>\n",
       "    </tr>\n",
       "    <tr>\n",
       "      <th>403</th>\n",
       "      <td>TCGA-Y8-A8S0</td>\n",
       "      <td>0</td>\n",
       "      <td>1</td>\n",
       "      <td>0</td>\n",
       "      <td>0</td>\n",
       "      <td>procedure : laparoscopic partial nephrectomy s...</td>\n",
       "    </tr>\n",
       "    <tr>\n",
       "      <th>404</th>\n",
       "      <td>TCGA-Y8-A8S1</td>\n",
       "      <td>0</td>\n",
       "      <td>0</td>\n",
       "      <td>1</td>\n",
       "      <td>0</td>\n",
       "      <td>research dx left lower pole renal mass, partia...</td>\n",
       "    </tr>\n",
       "  </tbody>\n",
       "</table>\n",
       "<p>405 rows × 6 columns</p>\n",
       "</div>"
      ],
      "text/plain": [
       "       patient_id  g1  g2  g3  g4  \\\n",
       "0    TCGA-2Z-A9J1   0   0   1   0   \n",
       "1    TCGA-2Z-A9J7   0   0   1   0   \n",
       "2    TCGA-2Z-A9J8   0   0   1   0   \n",
       "3    TCGA-2Z-A9JE   0   1   0   0   \n",
       "4    TCGA-2Z-A9JG   0   0   1   0   \n",
       "..            ...  ..  ..  ..  ..   \n",
       "400  TCGA-WN-AB4C   0   0   1   0   \n",
       "401  TCGA-Y8-A896   0   0   0   1   \n",
       "402  TCGA-Y8-A897   0   1   0   0   \n",
       "403  TCGA-Y8-A8S0   0   1   0   0   \n",
       "404  TCGA-Y8-A8S1   0   0   1   0   \n",
       "\n",
       "                                                report  \n",
       "0    left renal mass, partial nefhpectomy tumor typ...  \n",
       "1    procedure: right radical nephrectomy tumor typ...  \n",
       "2    left kidney tumor tumor type: renal cell carci...  \n",
       "3    right renal mass, heminephrectomy: tumor type:...  \n",
       "4    final diagnosis a. left kidney, partial nephre...  \n",
       "..                                                 ...  \n",
       "400  final diagnosis: a. kidney, \"right kidney mass...  \n",
       "401  research dx left kidney, radical nephrectomy: ...  \n",
       "402  case summary for nephrectomy for renal cell ca...  \n",
       "403  procedure : laparoscopic partial nephrectomy s...  \n",
       "404  research dx left lower pole renal mass, partia...  \n",
       "\n",
       "[405 rows x 6 columns]"
      ]
     },
     "execution_count": 4,
     "metadata": {},
     "output_type": "execute_result"
    }
   ],
   "source": [
    "tf=pd.read_csv(\"trainT.csv\")\n",
    "ds=tf.merge(df,on=\"patient_id\")\n",
    "ds"
   ]
  },
  {
   "cell_type": "code",
   "execution_count": 5,
   "id": "7be4e278",
   "metadata": {},
   "outputs": [],
   "source": [
    "import neattext as nt\n",
    "import neattext.functions as nfx"
   ]
  },
  {
   "cell_type": "code",
   "execution_count": 6,
   "id": "27ba0ec9",
   "metadata": {},
   "outputs": [],
   "source": [
    "reports=ds[\"report\"].apply(nfx.remove_stopwords)"
   ]
  },
  {
   "cell_type": "code",
   "execution_count": 7,
   "id": "9853caa7",
   "metadata": {},
   "outputs": [],
   "source": [
    "from sklearn.feature_extraction.text import TfidfVectorizer"
   ]
  },
  {
   "cell_type": "code",
   "execution_count": 8,
   "id": "d29a8318",
   "metadata": {},
   "outputs": [],
   "source": [
    "tfid=TfidfVectorizer()\n",
    "inputs=tfid.fit_transform(reports)"
   ]
  },
  {
   "cell_type": "code",
   "execution_count": 10,
   "id": "07d70178",
   "metadata": {},
   "outputs": [
    {
     "data": {
      "text/plain": [
       "array([[0, 0, 1, 0],\n",
       "       [0, 0, 1, 0],\n",
       "       [0, 0, 1, 0],\n",
       "       ...,\n",
       "       [0, 1, 0, 0],\n",
       "       [0, 1, 0, 0],\n",
       "       [0, 0, 1, 0]], dtype=int64)"
      ]
     },
     "execution_count": 10,
     "metadata": {},
     "output_type": "execute_result"
    }
   ],
   "source": [
    "outputs=np.array(ds[['g1','g2','g3','g4']])"
   ]
  },
  {
   "cell_type": "code",
   "execution_count": 45,
   "id": "01d4a3fe",
   "metadata": {},
   "outputs": [
    {
     "data": {
      "text/plain": [
       "((405, 1684), (405, 4))"
      ]
     },
     "execution_count": 45,
     "metadata": {},
     "output_type": "execute_result"
    }
   ],
   "source": [
    "inputs.shape,outputs.shape"
   ]
  },
  {
   "cell_type": "code",
   "execution_count": 11,
   "id": "f170a332",
   "metadata": {},
   "outputs": [],
   "source": [
    "from sklearn.model_selection import train_test_split\n",
    "Xtrain,Xtest,ytrain,ytest=train_test_split(inputs,outputs,test_size=0.2,random_state=42,stratify=outputs)"
   ]
  },
  {
   "cell_type": "markdown",
   "id": "ad8c7f40",
   "metadata": {},
   "source": [
    "# model selection and evaluation\n",
    "- use SDG classifier inside OneVsRest classifier for multiclass classification\n",
    "- fit the data to SDG classifier since it gave higher accuracy after trying multiple models.\n",
    "- used score metric for evaluation.\n"
   ]
  },
  {
   "cell_type": "code",
   "execution_count": 12,
   "id": "b8a6adc4",
   "metadata": {},
   "outputs": [
    {
     "data": {
      "text/plain": [
       "array([[0, 1, 0, 0],\n",
       "       [0, 0, 1, 0],\n",
       "       [0, 1, 0, 0],\n",
       "       [0, 0, 1, 0],\n",
       "       [0, 0, 0, 0],\n",
       "       [0, 1, 0, 0],\n",
       "       [0, 0, 1, 0],\n",
       "       [0, 1, 0, 0],\n",
       "       [0, 0, 0, 0],\n",
       "       [0, 0, 0, 0],\n",
       "       [0, 0, 0, 0],\n",
       "       [0, 0, 0, 0],\n",
       "       [0, 0, 0, 0],\n",
       "       [0, 1, 0, 0],\n",
       "       [0, 0, 1, 0],\n",
       "       [0, 1, 0, 0],\n",
       "       [0, 1, 0, 0],\n",
       "       [0, 0, 1, 0],\n",
       "       [0, 0, 0, 0],\n",
       "       [0, 0, 1, 0],\n",
       "       [0, 0, 1, 0],\n",
       "       [0, 0, 0, 0],\n",
       "       [0, 1, 0, 0],\n",
       "       [0, 0, 1, 0],\n",
       "       [0, 1, 0, 0],\n",
       "       [0, 0, 1, 0],\n",
       "       [0, 1, 0, 0],\n",
       "       [0, 0, 1, 0],\n",
       "       [0, 0, 0, 0],\n",
       "       [0, 1, 0, 0],\n",
       "       [0, 1, 0, 0],\n",
       "       [0, 1, 0, 0],\n",
       "       [0, 1, 0, 0],\n",
       "       [0, 0, 0, 0],\n",
       "       [0, 1, 0, 0],\n",
       "       [0, 0, 1, 0],\n",
       "       [0, 0, 1, 0],\n",
       "       [0, 0, 1, 0],\n",
       "       [0, 0, 1, 0],\n",
       "       [0, 1, 0, 0],\n",
       "       [0, 1, 0, 0],\n",
       "       [0, 0, 1, 0],\n",
       "       [0, 1, 0, 0],\n",
       "       [0, 0, 1, 0],\n",
       "       [0, 0, 0, 0],\n",
       "       [0, 0, 0, 0],\n",
       "       [0, 0, 0, 0],\n",
       "       [0, 0, 0, 0],\n",
       "       [0, 1, 0, 0],\n",
       "       [0, 0, 1, 0],\n",
       "       [0, 1, 0, 0],\n",
       "       [0, 0, 1, 0],\n",
       "       [0, 0, 1, 0],\n",
       "       [0, 0, 1, 0],\n",
       "       [0, 1, 0, 0],\n",
       "       [0, 0, 1, 0],\n",
       "       [0, 0, 1, 0],\n",
       "       [0, 1, 0, 0],\n",
       "       [0, 1, 0, 0],\n",
       "       [0, 1, 1, 0],\n",
       "       [0, 1, 0, 0],\n",
       "       [0, 1, 0, 0],\n",
       "       [0, 1, 0, 0],\n",
       "       [0, 0, 1, 0],\n",
       "       [0, 1, 0, 0],\n",
       "       [0, 1, 0, 0],\n",
       "       [0, 0, 0, 0],\n",
       "       [0, 1, 0, 0],\n",
       "       [0, 1, 0, 0],\n",
       "       [0, 0, 1, 0],\n",
       "       [0, 0, 1, 0],\n",
       "       [0, 0, 1, 0],\n",
       "       [0, 0, 0, 0],\n",
       "       [0, 1, 0, 0],\n",
       "       [0, 0, 0, 0],\n",
       "       [0, 0, 0, 1],\n",
       "       [0, 0, 0, 0],\n",
       "       [0, 1, 1, 0],\n",
       "       [0, 0, 1, 0],\n",
       "       [0, 1, 0, 0],\n",
       "       [0, 1, 0, 0]])"
      ]
     },
     "execution_count": 12,
     "metadata": {},
     "output_type": "execute_result"
    }
   ],
   "source": [
    "from sklearn.multiclass import OneVsRestClassifier\n",
    "from sklearn.linear_model import SGDClassifier\n",
    "sv=SGDClassifier(loss=\"log_loss\")\n",
    "ov=OneVsRestClassifier(sv)\n",
    "ov.fit(Xtrain, ytrain)\n",
    "ov.predict(Xtest)"
   ]
  },
  {
   "cell_type": "code",
   "execution_count": 48,
   "id": "0f214646",
   "metadata": {},
   "outputs": [
    {
     "name": "stdout",
     "output_type": "stream",
     "text": [
      "0.9753086419753086\n",
      "0.5802469135802469\n"
     ]
    }
   ],
   "source": [
    "print(ov.score(Xtrain,ytrain))\n",
    "print(ov.score(Xtest,ytest))"
   ]
  },
  {
   "cell_type": "markdown",
   "id": "b178a5d6",
   "metadata": {},
   "source": [
    "## prepairing test data for kaggle\n",
    "- predict_proba() is used to redict the probability of each cancer type."
   ]
  },
  {
   "cell_type": "code",
   "execution_count": 49,
   "id": "5d6bfe56",
   "metadata": {
    "scrolled": true
   },
   "outputs": [],
   "source": [
    "dT=pd.read_table(\"testT.csv\",sep=\",\")\n",
    "Td=dT.merge(df,on=\"patient_id\")"
   ]
  },
  {
   "cell_type": "code",
   "execution_count": 51,
   "id": "3c04206e",
   "metadata": {},
   "outputs": [],
   "source": [
    "report=tfid.transform(Td[\"report\"])\n",
    "pred=ov.predict_proba(report)\n",
    "pred=np.array(pred)"
   ]
  },
  {
   "cell_type": "code",
   "execution_count": 52,
   "id": "1d744801",
   "metadata": {
    "scrolled": true
   },
   "outputs": [],
   "source": [
    "g1=[]\n",
    "g2=[]\n",
    "g3=[]\n",
    "g4=[]\n",
    "for i in range(len(pred)):\n",
    "    split=np.array_split(pred[i],4)\n",
    "    g1.append(split[0])\n",
    "    g2.append(split[1])\n",
    "    g3.append(split[2])\n",
    "    g4.append(split[3])\n",
    "    \n",
    "    "
   ]
  },
  {
   "cell_type": "code",
   "execution_count": 53,
   "id": "a639ab62",
   "metadata": {},
   "outputs": [],
   "source": [
    "g1=np.hstack(g1)\n",
    "g2=np.hstack(g2)\n",
    "g3=np.hstack(g3)\n",
    "g4=np.hstack(g4)"
   ]
  },
  {
   "cell_type": "code",
   "execution_count": 54,
   "id": "49dde4b6",
   "metadata": {},
   "outputs": [],
   "source": [
    "import csv\n",
    "P_id=dT[\"patient_id\"]\n",
    "p_id=np.array(P_id)\n",
    "with open('NLPF.csv','w+') as file:\n",
    "    myfile=csv.writer(file)\n",
    "    myfile.writerow(['pateint_id','likelihood_G1', 'likelihood_G2', 'likelihood_G3','likelihood_G4'])\n",
    "    for i in range(len(p_id)):\n",
    "        myfile.writerow([P_id[i],g1[i],g2[i],g3[i],g4[i]])"
   ]
  },
  {
   "cell_type": "markdown",
   "id": "44a4518e",
   "metadata": {},
   "source": [
    "## kaggle result \n",
    "- evaluation metric negative log loss"
   ]
  },
  {
   "cell_type": "markdown",
   "id": "6d08ad98",
   "metadata": {},
   "source": [
    "![kaggle result negative log loss](NLPres.png)"
   ]
  },
  {
   "cell_type": "code",
   "execution_count": null,
   "id": "b1c471e1",
   "metadata": {},
   "outputs": [],
   "source": []
  }
 ],
 "metadata": {
  "kernelspec": {
   "display_name": "Python 3 (ipykernel)",
   "language": "python",
   "name": "python3"
  },
  "language_info": {
   "codemirror_mode": {
    "name": "ipython",
    "version": 3
   },
   "file_extension": ".py",
   "mimetype": "text/x-python",
   "name": "python",
   "nbconvert_exporter": "python",
   "pygments_lexer": "ipython3",
   "version": "3.11.5"
  }
 },
 "nbformat": 4,
 "nbformat_minor": 5
}
