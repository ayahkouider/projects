{
 "cells": [
  {
   "cell_type": "markdown",
   "id": "7cbd4f6b",
   "metadata": {},
   "source": [
    "# Breast cancer percent metastases prediction\n",
    "- aim of the project  is To design models that predict breast cancer metastases ratio in digital histopathology images of lymph node sections.\n",
    "- data consists of 1399 images and a csv file with the image id and labels."
   ]
  },
  {
   "cell_type": "markdown",
   "id": "e9ef8b64",
   "metadata": {},
   "source": [
    "## data preprocessing:\n",
    "- loading images\n",
    "- checking size and shape\n",
    "- spliting the data\n",
    "- scaling the data"
   ]
  },
  {
   "cell_type": "code",
   "execution_count": null,
   "id": "d04e77b8",
   "metadata": {},
   "outputs": [],
   "source": [
    "import csv"
   ]
  },
  {
   "cell_type": "code",
   "execution_count": 2,
   "id": "d1dfa0e3",
   "metadata": {},
   "outputs": [],
   "source": [
    "image_id=[]\n",
    "output=[]\n",
    "with open(\"train.csv\",\"r\") as file:\n",
    "    data=csv.reader(file)\n",
    "    for column in data:\n",
    "        image_id.append(column[0])\n",
    "        output.append(column[1])\n",
    "    "
   ]
  },
  {
   "cell_type": "code",
   "execution_count": 3,
   "id": "c17f8f1a",
   "metadata": {},
   "outputs": [],
   "source": [
    "import cv2"
   ]
  },
  {
   "cell_type": "code",
   "execution_count": 4,
   "id": "41a04192",
   "metadata": {},
   "outputs": [
    {
     "data": {
      "text/plain": [
       "1399"
      ]
     },
     "execution_count": 4,
     "metadata": {},
     "output_type": "execute_result"
    }
   ],
   "source": [
    "images=[]\n",
    "for imageId in image_id:\n",
    "    img=cv2.imread(fr\"C:\\Users\\aya\\Downloads\\images\\{imageId}.jpeg\")\n",
    "    img=cv2.resize(img,(200,200))\n",
    "    images.append(img)\n",
    "len(images)"
   ]
  },
  {
   "cell_type": "code",
   "execution_count": 5,
   "id": "405fb5fb",
   "metadata": {},
   "outputs": [],
   "source": [
    "import numpy as np"
   ]
  },
  {
   "cell_type": "code",
   "execution_count": 6,
   "id": "8e9c3f3a",
   "metadata": {},
   "outputs": [],
   "source": [
    "images=np.array(images)\n",
    "output=np.array(output)"
   ]
  },
  {
   "cell_type": "code",
   "execution_count": 7,
   "id": "3f7e2561",
   "metadata": {},
   "outputs": [
    {
     "data": {
      "text/plain": [
       "(1399, 200, 200, 3)"
      ]
     },
     "execution_count": 7,
     "metadata": {},
     "output_type": "execute_result"
    }
   ],
   "source": [
    "images.shape"
   ]
  },
  {
   "cell_type": "code",
   "execution_count": 8,
   "id": "c673ef24",
   "metadata": {},
   "outputs": [
    {
     "data": {
      "text/plain": [
       "(1399, 120000)"
      ]
     },
     "execution_count": 8,
     "metadata": {},
     "output_type": "execute_result"
    }
   ],
   "source": [
    "c_images=images.reshape(len(images),-1)\n",
    "c_images.shape"
   ]
  },
  {
   "cell_type": "code",
   "execution_count": 9,
   "id": "fb2cb24f",
   "metadata": {},
   "outputs": [],
   "source": [
    "import matplotlib.pyplot as plt\n",
    "from sklearn.model_selection import train_test_split\n",
    "from sklearn.metrics import accuracy_score"
   ]
  },
  {
   "cell_type": "code",
   "execution_count": 10,
   "id": "0fea8c80",
   "metadata": {},
   "outputs": [],
   "source": [
    "c_train,c_test,o_train,o_test=train_test_split(c_images,output,random_state=10,test_size=.20)"
   ]
  },
  {
   "cell_type": "code",
   "execution_count": 13,
   "id": "4098101e",
   "metadata": {},
   "outputs": [
    {
     "data": {
      "text/plain": [
       "((1119, 120000), (280, 120000))"
      ]
     },
     "execution_count": 13,
     "metadata": {},
     "output_type": "execute_result"
    }
   ],
   "source": [
    "c_train.shape,c_test.shape"
   ]
  },
  {
   "cell_type": "code",
   "execution_count": 14,
   "id": "3667724b",
   "metadata": {},
   "outputs": [],
   "source": [
    "from sklearn.preprocessing import StandardScaler\n",
    "sc= StandardScaler()\n",
    "c_train = sc.fit_transform(c_train)\n",
    "c_test = sc.transform(c_test)\n"
   ]
  },
  {
   "cell_type": "markdown",
   "id": "b3c32f54",
   "metadata": {},
   "source": [
    "## model selection and evaluation\n",
    "- fit the model to svc with probability true to get the probability of cancer.svc gave higher accuracy after trying multiple models.\n",
    "- AUROC cuve and score metric were used for evaluation.\n"
   ]
  },
  {
   "cell_type": "code",
   "execution_count": 15,
   "id": "80134f60",
   "metadata": {},
   "outputs": [],
   "source": [
    "from sklearn.svm  import SVC"
   ]
  },
  {
   "cell_type": "code",
   "execution_count": null,
   "id": "0f31375f",
   "metadata": {},
   "outputs": [],
   "source": [
    "sv=SVC(probability=True)\n",
    "sv.fit(c_train,o_train)"
   ]
  },
  {
   "cell_type": "code",
   "execution_count": 47,
   "id": "a9558950",
   "metadata": {},
   "outputs": [
    {
     "name": "stdout",
     "output_type": "stream",
     "text": [
      "1.0\n",
      "0.11719525670675268\n"
     ]
    }
   ],
   "source": [
    "o_test=[int(i) for i in o_test]\n",
    "o_train=[int(i) for i in o_train]\n",
    "print(sv.score(c_train,o_train))\n",
    "print(sv.score(c_test,o_test))\n"
   ]
  },
  {
   "cell_type": "code",
   "execution_count": 50,
   "id": "bfc7363b",
   "metadata": {},
   "outputs": [],
   "source": [
    "prob=sv.predict_proba(c_test)"
   ]
  },
  {
   "cell_type": "code",
   "execution_count": 51,
   "id": "dd84d695",
   "metadata": {},
   "outputs": [
    {
     "data": {
      "image/png": "[encoded data removed]",
      "text/plain": [
       "<Figure size 640x480 with 1 Axes>"
      ]
     },
     "metadata": {},
     "output_type": "display_data"
    }
   ],
   "source": [
    "from sklearn.metrics import auc\n",
    "from sklearn.metrics import roc_curve\n",
    "from sklearn.metrics import roc_auc_score\n",
    "auc=roc_auc_score(o_test,prob)\n",
    "fpr,tpr,_=roc_curve(o_test,prob)\n",
    "plt.plot(fpr,tpr,marker=\".\",label='AUROC=%0.3f'%auc)\n",
    "plt.xlabel(\"FPR\")\n",
    "plt.ylabel(\"TPR\")\n",
    "plt.legend()\n",
    "plt.show()\n",
    "\n"
   ]
  },
  {
   "cell_type": "markdown",
   "id": "dac67a4c",
   "metadata": {},
   "source": [
    "## prepairing test data for kaggle"
   ]
  },
  {
   "cell_type": "code",
   "execution_count": 82,
   "id": "a79810e5",
   "metadata": {},
   "outputs": [],
   "source": [
    "image_T=[]\n",
    "with open(\"test.csv\",\"r\") as file:\n",
    "    data=csv.reader(file)\n",
    "    for column in data:\n",
    "        image_T.append(column[0]) "
   ]
  },
  {
   "cell_type": "code",
   "execution_count": 83,
   "id": "e46bef28",
   "metadata": {},
   "outputs": [],
   "source": [
    "cancerT=[]\n",
    "for imageId in image_T:\n",
    "    img=cv2.imread(fr\"C:\\Users\\aya\\Downloads\\images\\{imageId}.jpeg\")\n",
    "    img=cv2.resize(img,(200,200))\n",
    "    cancerT.append(img)\n"
   ]
  },
  {
   "cell_type": "code",
   "execution_count": 84,
   "id": "625888ec",
   "metadata": {},
   "outputs": [],
   "source": [
    "cancerT=np.array(cancerT)\n",
    "cancerT=cancerT.reshape(len(cancerT),-1)\n",
    "cancerT = sc.transform(cancerT)\n"
   ]
  },
  {
   "cell_type": "code",
   "execution_count": 85,
   "id": "42340133",
   "metadata": {},
   "outputs": [],
   "source": [
    "prediction=sv.predict_proba(cancerT)[:,1]"
   ]
  },
  {
   "cell_type": "code",
   "execution_count": 86,
   "id": "f8f4a94f",
   "metadata": {},
   "outputs": [],
   "source": [
    "with open('AUROC.csv','w+') as file:\n",
    "    myfile=csv.writer(file)\n",
    "    myfile.writerow(['img_id','cancer_score'])\n",
    "    for i in range(len(image_T)):\n",
    "        myfile.writerow([image_T[i],prediction[i]])"
   ]
  },
  {
   "cell_type": "markdown",
   "id": "97099a3b",
   "metadata": {},
   "source": [
    "## kaggle results\n",
    "- evaluation metric MAE"
   ]
  },
  {
   "cell_type": "markdown",
   "id": "3cd734ba",
   "metadata": {},
   "source": [
    "![kaggle MAE results](kaggle_res.png)"
   ]
  },
  {
   "cell_type": "code",
   "execution_count": null,
   "id": "3f7c0cae",
   "metadata": {},
   "outputs": [],
   "source": []
  }
 ],
 "metadata": {
  "kernelspec": {
   "display_name": "Python 3 (ipykernel)",
   "language": "python",
   "name": "python3"
  },
  "language_info": {
   "codemirror_mode": {
    "name": "ipython",
    "version": 3
   },
   "file_extension": ".py",
   "mimetype": "text/x-python",
   "name": "python",
   "nbconvert_exporter": "python",
   "pygments_lexer": "ipython3",
   "version": "3.11.5"
  }
 },
 "nbformat": 4,
 "nbformat_minor": 5
}
